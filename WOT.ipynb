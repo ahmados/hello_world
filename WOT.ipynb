{
 "cells": [
  {
   "cell_type": "markdown",
   "metadata": {},
   "source": [
    "#                 Честен ли генератор случайного урона World of Tanks и какое у него распределение?(спойлер - да)"
   ]
  },
  {
   "cell_type": "code",
   "execution_count": 1,
   "metadata": {},
   "outputs": [],
   "source": [
    "import numpy as np\n",
    "import matplotlib.pyplot as plt\n",
    "from scipy.stats import norm"
   ]
  },
  {
   "cell_type": "code",
   "execution_count": 2,
   "metadata": {},
   "outputs": [],
   "source": [
    "%matplotlib inline"
   ]
  },
  {
   "cell_type": "markdown",
   "metadata": {},
   "source": [
    "## 1. Взято с https://www.youtube.com/channel/UCLZIN4aTXYm92c1ENyN8KmA"
   ]
  },
  {
   "cell_type": "code",
   "execution_count": 3,
   "metadata": {},
   "outputs": [],
   "source": [
    "data = [['object 268', 750, [761, 680, 667]], ['Archer', 150, [142, 156, 162]], ['T110E4', 750, [831, 789, 710, 938]],\n",
    "       ['AMX M4 1945', 560, [562, 553, 493, 604]], ['Object 277', 490, [524, 474, 520, 504, 499, 453]], ['60TP', 750, [680, 621]],\n",
    "       ['60TPHE', 950, [1041]], ['T30', 750, [803, 710, 650, 828, 726, 767, 716]], ['ISU-152', 750, [686, 846]],\n",
    "       ['Object 268 variant 4', 650, [682, 630]], ['SU-100Y', 440, [415, 378, 442]], ['Tiger II', 320, [320]], \n",
    "       ['T-34-85M', 180, [163, 186, 168, 171, 195, 169, 190, 175]], ['T20', 240, [257, 261, 240]], ['Caernarvon', 280, [286, 300, 276, 289]],\n",
    "       ['WZ-111-1-4', 490, [490, 535, 516, 417]], ['Super Conqueror', 400, [407, 398, 336, 460, 457, 337, 446, 436, 395, 391, 386, 355, 362, 354, 399, 440]]]"
   ]
  },
  {
   "cell_type": "code",
   "execution_count": 4,
   "metadata": {
    "scrolled": false
   },
   "outputs": [
    {
     "data": {
      "text/plain": [
       "[['object 268', 750, [761, 680, 667]],\n",
       " ['Archer', 150, [142, 156, 162]],\n",
       " ['T110E4', 750, [831, 789, 710, 938]],\n",
       " ['AMX M4 1945', 560, [562, 553, 493, 604]],\n",
       " ['Object 277', 490, [524, 474, 520, 504, 499, 453]]]"
      ]
     },
     "execution_count": 4,
     "metadata": {},
     "output_type": "execute_result"
    }
   ],
   "source": [
    "data[:5]"
   ]
  },
  {
   "cell_type": "markdown",
   "metadata": {},
   "source": [
    "## 2. Масштабируем все к нулю ((урон/заявленный урон) - 1)"
   ]
  },
  {
   "cell_type": "code",
   "execution_count": 5,
   "metadata": {},
   "outputs": [],
   "source": [
    "damages = []\n",
    "for d in data:\n",
    "    for dmg in d[2]:\n",
    "        damages.append(dmg/d[1] - 1)"
   ]
  },
  {
   "cell_type": "code",
   "execution_count": 6,
   "metadata": {},
   "outputs": [
    {
     "data": {
      "text/plain": [
       "array([ 0.01466667, -0.09333333, -0.11066667, -0.05333333,  0.04      ])"
      ]
     },
     "execution_count": 6,
     "metadata": {},
     "output_type": "execute_result"
    }
   ],
   "source": [
    "damages = np.array(damages)\n",
    "damages[:5]"
   ]
  },
  {
   "cell_type": "code",
   "execution_count": 7,
   "metadata": {},
   "outputs": [
    {
     "data": {
      "text/plain": [
       "73"
      ]
     },
     "execution_count": 7,
     "metadata": {},
     "output_type": "execute_result"
    }
   ],
   "source": [
    "len(damages)"
   ]
  },
  {
   "cell_type": "markdown",
   "metadata": {},
   "source": [
    "## 3. Какое среднее?"
   ]
  },
  {
   "cell_type": "code",
   "execution_count": 8,
   "metadata": {},
   "outputs": [
    {
     "data": {
      "text/plain": [
       "-0.001089335739505686"
      ]
     },
     "execution_count": 8,
     "metadata": {},
     "output_type": "execute_result"
    }
   ],
   "source": [
    "damages.mean()"
   ]
  },
  {
   "cell_type": "markdown",
   "metadata": {},
   "source": [
    "### Вывод : _**очень близко к нулю**_"
   ]
  },
  {
   "cell_type": "code",
   "execution_count": 9,
   "metadata": {},
   "outputs": [],
   "source": [
    "damages_sorted = np.sort(damages)"
   ]
  },
  {
   "cell_type": "code",
   "execution_count": 10,
   "metadata": {},
   "outputs": [
    {
     "data": {
      "text/plain": [
       "[<matplotlib.lines.Line2D at 0x117fbfbe0>]"
      ]
     },
     "execution_count": 10,
     "metadata": {},
     "output_type": "execute_result"
    },
    {
     "data": {
      "image/png": "[encoded data removed]",
      "text/plain": [
       "<Figure size 432x288 with 1 Axes>"
      ]
     },
     "metadata": {
      "needs_background": "light"
     },
     "output_type": "display_data"
    }
   ],
   "source": [
    "plt.plot(damages_sorted)"
   ]
  },
  {
   "cell_type": "markdown",
   "metadata": {},
   "source": [
    "## 4. Построим гистограмму и посмотрим распрделение"
   ]
  },
  {
   "cell_type": "code",
   "execution_count": 11,
   "metadata": {},
   "outputs": [
    {
     "data": {
      "image/png": "[encoded data removed]",
      "text/plain": [
       "<Figure size 432x288 with 1 Axes>"
      ]
     },
     "metadata": {
      "needs_background": "light"
     },
     "output_type": "display_data"
    }
   ],
   "source": [
    "mu, std = norm.fit(damages_sorted)\n",
    "\n",
    "# Plot the histogram.\n",
    "plt.hist(damages_sorted, bins=8, density=True, alpha=0.6, color='g')\n",
    "\n",
    "# Plot the PDF.\n",
    "xmin, xmax = plt.xlim()\n",
    "x = np.linspace(xmin, xmax, 100)\n",
    "p = norm.pdf(x, mu, std)\n",
    "plt.plot(x, p, 'k', linewidth=2)\n",
    "title = \"Fit results: mu = %.2f,  std = %.2f\" % (mu, std)\n",
    "plt.title(title)\n",
    "\n",
    "plt.show()"
   ]
  },
  {
   "cell_type": "markdown",
   "metadata": {},
   "source": [
    "## 5. Вывод\n",
    "\n",
    "Случайный урон близок к нормальному распределению с такими параметрами\n",
    "\n",
    "Обозначим:\n",
    "\n",
    "$$\n",
    "\\large{x = \\mathcal{N(1, 0.09)}}\n",
    "$$\n",
    "\n",
    "(Это нормальное распределение со средним 1 и стандартным отклонением 0.3)\n",
    "\n",
    "Тогда:\n",
    "\n",
    "$$\n",
    "\\large{AD = \\left([x < 0.75] * 0.75 + [x > 1.25] * 1.25 + [0.75 \\leq x \\leq 1.25] * x \\right) * SD}\n",
    "$$\n",
    "\n",
    "### где AD - настоящий урон, SD - заявленный урон\n",
    "### То есть генератор _**честный**_, в том плане что среднее значение совпадает со значением в ТТХ"
   ]
  },
  {
   "cell_type": "code",
   "execution_count": null,
   "metadata": {},
   "outputs": [],
   "source": []
  }
 ],
 "metadata": {
  "kernelspec": {
   "display_name": "Python 3",
   "language": "python",
   "name": "python3"
  },
  "language_info": {
   "codemirror_mode": {
    "name": "ipython",
    "version": 3
   },
   "file_extension": ".py",
   "mimetype": "text/x-python",
   "name": "python",
   "nbconvert_exporter": "python",
   "pygments_lexer": "ipython3",
   "version": "3.6.2"
  }
 },
 "nbformat": 4,
 "nbformat_minor": 2
}
